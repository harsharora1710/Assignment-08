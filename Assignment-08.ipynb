{
 "cells": [
  {
   "cell_type": "code",
   "execution_count": 1,
   "id": "d2e3c50b-c9ff-4de9-9ea8-064d19daee9b",
   "metadata": {},
   "outputs": [],
   "source": [
    "#q1)\n",
    "\n",
    "#In Python, an exception is an event that occurs during the execution of a program, which disrupts the normal flow of the program\n",
    "\n",
    "\n",
    "#Exceptions: Exceptions occur during the runtime of a program and are typically caused by factors such as incorrect input, \n",
    "#invalid operations, or unforeseen conditions. Exceptions can be caught and handled using try-except blocks, allowing the program \n",
    "#to gracefully recover from errors and continue executing.\n",
    "\n",
    "#Syntax Errors: Syntax errors, on the other hand, are detected by the Python interpreter during the parsing or compiling phase of\n",
    "#the program. These errors occur when the code does not follow the correct syntax rules of the Python language. \n",
    "#Syntax errors prevent the program from executing at all unless the errors are fixed."
   ]
  },
  {
   "cell_type": "code",
   "execution_count": 2,
   "id": "432db6db-7ede-4a03-832e-5ec29a910043",
   "metadata": {},
   "outputs": [
    {
     "ename": "ZeroDivisionError",
     "evalue": "division by zero",
     "output_type": "error",
     "traceback": [
      "\u001b[0;31m---------------------------------------------------------------------------\u001b[0m",
      "\u001b[0;31mZeroDivisionError\u001b[0m                         Traceback (most recent call last)",
      "Cell \u001b[0;32mIn[2], line 3\u001b[0m\n\u001b[1;32m      1\u001b[0m \u001b[38;5;66;03m#q2)\u001b[39;00m\n\u001b[1;32m      2\u001b[0m \u001b[38;5;66;03m#When an exception is not handled, it leads to an abnormal termination of the program\u001b[39;00m\n\u001b[0;32m----> 3\u001b[0m a\u001b[38;5;241m=\u001b[39m\u001b[38;5;241;43m4\u001b[39;49m\u001b[38;5;241;43m/\u001b[39;49m\u001b[38;5;241;43m0\u001b[39;49m\n",
      "\u001b[0;31mZeroDivisionError\u001b[0m: division by zero"
     ]
    }
   ],
   "source": [
    "#q2)\n",
    "#When an exception is not handled, it leads to an abnormal termination of the program\n",
    "a=4/0\n"
   ]
  },
  {
   "cell_type": "code",
   "execution_count": 3,
   "id": "760d2173-ec26-4ea0-86d3-50dc94bfc616",
   "metadata": {},
   "outputs": [
    {
     "name": "stdout",
     "output_type": "stream",
     "text": [
      "division by zero\n"
     ]
    }
   ],
   "source": [
    "#q3)\n",
    "#In Python, exception handling is accomplished using try-except statements\n",
    "try:\n",
    "    a=4/0\n",
    "except Exception as e:\n",
    "    print(e)"
   ]
  },
  {
   "cell_type": "code",
   "execution_count": 6,
   "id": "38c8fdb9-2562-4f35-ae76-1ecb4ba75b7c",
   "metadata": {},
   "outputs": [
    {
     "name": "stdout",
     "output_type": "stream",
     "text": [
      "No error\n"
     ]
    }
   ],
   "source": [
    "#q4)\n",
    "#The try block: This is the section of code where you place the statements that might raise an exception\n",
    "#he else block is optional and is executed if no exceptions occur within the try block.\n",
    "try:\n",
    "    a=3/2\n",
    "except Exception as e:\n",
    "    print(e)\n",
    "else:\n",
    "    print(\"No error\")"
   ]
  },
  {
   "cell_type": "code",
   "execution_count": 7,
   "id": "ebebf00f-ebc5-4d67-8de1-88ae9d255d75",
   "metadata": {},
   "outputs": [
    {
     "name": "stdout",
     "output_type": "stream",
     "text": [
      "division by zero\n",
      "final\n"
     ]
    }
   ],
   "source": [
    "#Finally is executed regardless of whether an exception occurred or not.\n",
    "try:\n",
    "    a=3/0\n",
    "except Exception as e:\n",
    "    print(e)\n",
    "else:\n",
    "    print(\"No error\")\n",
    "finally:\n",
    "    print(\"final\")"
   ]
  },
  {
   "cell_type": "code",
   "execution_count": 9,
   "id": "3c2ac1e8-99b2-4372-9459-4380b5e97c32",
   "metadata": {},
   "outputs": [
    {
     "name": "stdout",
     "output_type": "stream",
     "text": [
      "Error: Cannot divide by zero\n"
     ]
    }
   ],
   "source": [
    "#The raise keyword is used to explicitly raise an exception within your code\n",
    "def divide_numbers(num1, num2):\n",
    "    if num2 == 0:\n",
    "        raise ValueError(\"Cannot divide by zero\")\n",
    "    return num1 / num2\n",
    "\n",
    "try:\n",
    "    result = divide_numbers(10, 0)\n",
    "except ValueError as e:\n",
    "    print(\"Error:\", str(e))\n"
   ]
  },
  {
   "cell_type": "code",
   "execution_count": 10,
   "id": "a14d0bee-8474-4380-92b3-b486cee972c0",
   "metadata": {},
   "outputs": [
    {
     "name": "stdout",
     "output_type": "stream",
     "text": [
      "Error: Cannot divide by zero\n"
     ]
    }
   ],
   "source": [
    "#q5)\n",
    "#In Python, custom exceptions are user-defined exceptions that extend the built-in exception classes or other existing exception classes. \n",
    "def divide_numbers(num1, num2):\n",
    "    if num2 == 0:\n",
    "        raise ValueError(\"Cannot divide by zero\")\n",
    "    return num1 / num2\n",
    "\n",
    "try:\n",
    "    result = divide_numbers(10, 0)\n",
    "except ValueError as e:\n",
    "    print(\"Error:\", str(e))"
   ]
  },
  {
   "cell_type": "code",
   "execution_count": 11,
   "id": "ef5b120d-7e8b-4c08-9022-21be0f3bee12",
   "metadata": {},
   "outputs": [
    {
     "name": "stdout",
     "output_type": "stream",
     "text": [
      "error\n"
     ]
    }
   ],
   "source": [
    "#q6)\n",
    "class A(Exception):\n",
    "    pass\n",
    "try:\n",
    "    a=3\n",
    "    if a==3:\n",
    "        raise A(\"error\")\n",
    "except A as e:\n",
    "    print(e)"
   ]
  },
  {
   "cell_type": "code",
   "execution_count": null,
   "id": "595d42b6-4426-4ccf-aca8-6940ed923d67",
   "metadata": {},
   "outputs": [],
   "source": []
  }
 ],
 "metadata": {
  "kernelspec": {
   "display_name": "Python 3 (ipykernel)",
   "language": "python",
   "name": "python3"
  },
  "language_info": {
   "codemirror_mode": {
    "name": "ipython",
    "version": 3
   },
   "file_extension": ".py",
   "mimetype": "text/x-python",
   "name": "python",
   "nbconvert_exporter": "python",
   "pygments_lexer": "ipython3",
   "version": "3.10.8"
  }
 },
 "nbformat": 4,
 "nbformat_minor": 5
}
